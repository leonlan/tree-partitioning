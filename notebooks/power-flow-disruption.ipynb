{
 "cells": [
  {
   "cell_type": "code",
   "execution_count": 1,
   "id": "1a7c903d-ff58-40e6-b50b-6e195a0977ef",
   "metadata": {},
   "outputs": [],
   "source": [
    "from io import StringIO\n",
    "from pathlib import Path\n",
    "\n",
    "import matplotlib.pyplot as plt\n",
    "import numpy as np\n",
    "import pandas as pd\n",
    "\n",
    "import utils"
   ]
  },
  {
   "cell_type": "code",
   "execution_count": 2,
   "id": "5e7338b9-a9fc-498f-b306-dd2e3c845138",
   "metadata": {},
   "outputs": [],
   "source": [
    "lines = '\\n'.join([open(path, 'r').read() for path in Path('../results/pfd').glob('*')])\n",
    "df = pd.read_csv(StringIO(lines), sep=';', header=None)\n",
    "df.columns = utils.results_columns\n",
    "df['case'] = df['case'].apply(utils.format_case_name)\n",
    "df['power_flow_disruption'] = df['power_flow_disruption'].astype(int)"
   ]
  },
  {
   "cell_type": "code",
   "execution_count": 3,
   "id": "4eb1cc71-baeb-4b97-ab9e-52f46a5bb632",
   "metadata": {},
   "outputs": [
    {
     "name": "stderr",
     "output_type": "stream",
     "text": [
      "/var/folders/wh/bdq353fj58j61dwg1ksz7br40000gn/T/ipykernel_87617/2729923776.py:1: FutureWarning: Indexing with multiple keys (implicitly converted to a tuple of keys) will be deprecated, use a list instead.\n",
      "  pfd = df.groupby(['case', 'n_buses', 'n_clusters', 'algorithm'])['power_flow_disruption', 'runtime'].\\\n"
     ]
    }
   ],
   "source": [
    "pfd = df.groupby(['case', 'n_buses', 'n_clusters', 'algorithm'])['power_flow_disruption', 'runtime'].\\\n",
    "    sum().\\\n",
    "    unstack().\\\n",
    "    sort_values(['n_buses', 'n_clusters']).\\\n",
    "    droplevel('n_buses').\\\n",
    "    round(2)"
   ]
  },
  {
   "cell_type": "code",
   "execution_count": 4,
   "id": "19ebf113-dc57-4a89-9141-ceabfbfff9e6",
   "metadata": {},
   "outputs": [
    {
     "name": "stdout",
     "output_type": "stream",
     "text": [
      "\\begin{tabular}{llrrrrr}\n",
      "\\toprule\n",
      "         & {} & \\multicolumn{3}{l}{power\\_flow\\_disruption} & \\multicolumn{2}{l}{runtime} \\\\\n",
      "         & algorithm &                   1ST &   2ST &     gap &     1ST &     2ST \\\\\n",
      "case & n\\_clusters &                       &       &         &         &         \\\\\n",
      "\\midrule\n",
      "IEEE-30 & 2 &                    92 &    92 &    0.00 &    0.10 &    0.06 \\\\\n",
      "         & 3 &                    69 &    69 &    0.00 &    0.24 &    0.08 \\\\\n",
      "         & 4 &                    82 &    85 &    3.66 &    0.28 &    0.10 \\\\\n",
      "         & 5 &                    15 &    37 &  146.67 &    0.11 &    0.11 \\\\\n",
      "EPRI-39 & 2 &                    50 &    50 &    0.00 &    0.09 &    0.06 \\\\\n",
      "         & 3 &                    50 &    50 &    0.00 &    0.12 &    0.07 \\\\\n",
      "         & 4 &                    50 &    67 &   34.00 &    0.08 &    0.09 \\\\\n",
      "         & 5 &                    34 &    67 &   97.06 &    0.13 &    0.12 \\\\\n",
      "IEEE-57 & 2 &                   158 &   158 &    0.00 &    0.12 &    0.10 \\\\\n",
      "         & 3 &                   155 &   155 &    0.00 &    0.17 &    0.12 \\\\\n",
      "         & 4 &                   172 &   172 &    0.00 &    0.20 &    0.15 \\\\\n",
      "         & 5 &                   172 &   172 &    0.00 &    0.26 &    0.25 \\\\\n",
      "PEGASE-89 & 2 &                   641 &   641 &    0.00 &    0.23 &    0.27 \\\\\n",
      "         & 3 &                   735 &   834 &   13.47 &    0.28 &    0.28 \\\\\n",
      "         & 4 &                  1134 &  1233 &    8.73 &    0.90 &    0.35 \\\\\n",
      "         & 5 &                  1192 &  1253 &    5.12 &    1.43 &    0.51 \\\\\n",
      "IEEE-118 & 2 &                   267 &   267 &    0.00 &    0.22 &    0.25 \\\\\n",
      "         & 3 &                   277 &   277 &    0.00 &    0.23 &    0.24 \\\\\n",
      "         & 4 &                   786 &   786 &    0.00 &    0.27 &    0.29 \\\\\n",
      "         & 5 &                   812 &   812 &    0.00 &    0.31 &    0.42 \\\\\n",
      "IEEE-162 & 2 &                   692 &   717 &    3.61 &    0.60 &    0.38 \\\\\n",
      "         & 3 &                   583 &   608 &    4.29 &    1.45 &    0.46 \\\\\n",
      "         & 4 &                   601 &   641 &    6.66 &    3.69 &    0.56 \\\\\n",
      "         & 5 &                   754 &   896 &   18.83 &   73.65 &    0.76 \\\\\n",
      "GOC-179 & 2 &                   252 &   252 &    0.00 &    0.29 &    0.27 \\\\\n",
      "         & 3 &                  1944 &  1944 &    0.00 &    1.04 &    0.44 \\\\\n",
      "         & 4 &                  2796 &  2796 &    0.00 &    5.40 &    0.55 \\\\\n",
      "         & 5 &                  2796 &  2796 &    0.00 &   66.74 &    0.72 \\\\\n",
      "IEEE-300 & 2 &                   193 &   193 &    0.00 &    0.45 &    0.51 \\\\\n",
      "         & 3 &                   312 &   312 &    0.00 &    0.54 &    0.66 \\\\\n",
      "         & 4 &                   909 &   909 &    0.00 &    0.63 &    0.80 \\\\\n",
      "         & 5 &                  1006 &  1148 &   14.12 &    0.78 &    1.05 \\\\\n",
      "GOC-500 & 2 &                   560 &   560 &    0.00 &    0.74 &    0.99 \\\\\n",
      "         & 3 &                   740 &   800 &    8.11 &    0.96 &    1.32 \\\\\n",
      "         & 4 &                  1221 &  1281 &    4.91 &    1.65 &    1.60 \\\\\n",
      "         & 5 &                  1236 &  1381 &   11.73 &    2.61 &    1.92 \\\\\n",
      "SDET-588 & 2 &                   135 &   135 &    0.00 &    0.73 &    0.96 \\\\\n",
      "         & 3 &                   436 &   436 &    0.00 &    0.80 &    1.24 \\\\\n",
      "         & 4 &                   561 &   561 &    0.00 &    1.03 &    1.56 \\\\\n",
      "         & 5 &                   568 &   768 &   35.21 &    1.22 &    1.77 \\\\\n",
      "GOC-793 & 2 &                   673 &   673 &    0.00 &    0.93 &    1.28 \\\\\n",
      "         & 3 &                   917 &   975 &    6.32 &    1.27 &    1.63 \\\\\n",
      "         & 4 &                   917 &  1030 &   12.32 &    2.19 &    4.44 \\\\\n",
      "         & 5 &                  1048 &  1480 &   41.22 &    3.31 &   15.04 \\\\\n",
      "PEGASE-1354 & 2 &                  2483 &  2483 &    0.00 &    1.90 &    2.89 \\\\\n",
      "         & 3 &                  2694 &  2694 &    0.00 &    3.45 &    3.74 \\\\\n",
      "         & 4 &                  4482 &  4511 &    0.65 &   26.84 &    4.71 \\\\\n",
      "         & 5 &                  5325 &  5354 &    0.54 &   85.74 &    5.66 \\\\\n",
      "RTE-1888 & 2 &                   788 &   835 &    5.96 &    2.80 &    4.27 \\\\\n",
      "         & 3 &                  1623 &  1670 &    2.90 &    3.80 &    5.24 \\\\\n",
      "         & 4 &                  3757 &  3804 &    1.25 &   48.67 &    6.18 \\\\\n",
      "         & 5 &                  5245 &  5361 &    2.21 &  604.05 &   30.84 \\\\\n",
      "GOC-2000 & 2 &                   978 &  1034 &    5.73 &    3.54 &    5.23 \\\\\n",
      "         & 3 &                  1255 &  1616 &   28.76 &   14.42 &   10.41 \\\\\n",
      "         & 4 &                  1609 &  1970 &   22.44 &   23.61 &   14.35 \\\\\n",
      "         & 5 &                  3175 &  3639 &   14.61 &  368.15 &  140.51 \\\\\n",
      "RTE-2848 & 2 &                   889 &   955 &    7.42 &    4.26 &    6.53 \\\\\n",
      "         & 3 &                  1624 &  1690 &    4.06 &  167.35 &    8.13 \\\\\n",
      "         & 4 &                  2259 &  2286 &    1.20 &  388.56 &    9.77 \\\\\n",
      "         & 5 &                  3197 &  3224 &    0.84 &  605.52 &   13.25 \\\\\n",
      "\\bottomrule\n",
      "\\end{tabular}\n",
      "\n"
     ]
    },
    {
     "name": "stderr",
     "output_type": "stream",
     "text": [
      "/var/folders/wh/bdq353fj58j61dwg1ksz7br40000gn/T/ipykernel_87617/1871477755.py:6: FutureWarning: In future versions `DataFrame.to_latex` is expected to utilise the base implementation of `Styler.to_latex` for formatting and rendering. The arguments signature may therefore change. It is recommended instead to use `DataFrame.style.to_latex` which also contains additional functionality.\n",
      "  print(pfd.to_latex())\n"
     ]
    }
   ],
   "source": [
    "pd.set_option('display.max_rows', 500)\n",
    "single = pfd[('power_flow_disruption', '1ST')]\n",
    "two = pfd[('power_flow_disruption', '2ST')]\n",
    "pfd[('power_flow_disruption', 'gap')] = round((two - single) / single * 100, 2)\n",
    "pfd = pfd.sort_index(axis=1)\n",
    "print(pfd.to_latex())"
   ]
  }
 ],
 "metadata": {
  "kernelspec": {
   "display_name": "Python 3 (ipykernel)",
   "language": "python",
   "name": "python3"
  },
  "language_info": {
   "codemirror_mode": {
    "name": "ipython",
    "version": 3
   },
   "file_extension": ".py",
   "mimetype": "text/x-python",
   "name": "python",
   "nbconvert_exporter": "python",
   "pygments_lexer": "ipython3",
   "version": "3.10.10"
  }
 },
 "nbformat": 4,
 "nbformat_minor": 5
}
